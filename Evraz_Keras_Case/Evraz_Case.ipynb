{
  "nbformat": 4,
  "nbformat_minor": 5,
  "metadata": {
    "kernelspec": {
      "display_name": "Python 3",
      "language": "python",
      "name": "python3"
    },
    "language_info": {
      "codemirror_mode": {
        "name": "ipython",
        "version": 3
      },
      "file_extension": ".py",
      "mimetype": "text/x-python",
      "name": "python",
      "nbconvert_exporter": "python",
      "pygments_lexer": "ipython3",
      "version": "3.8.10"
    },
    "colab": {
      "name": "Evraz_Case.ipynb",
      "provenance": []
    }
  },
  "cells": [
    {
      "cell_type": "markdown",
      "metadata": {
        "id": "b5042e0f"
      },
      "source": [
        "# Методы машинного обучения в области Computer Vision"
      ],
      "id": "b5042e0f"
    },
    {
      "cell_type": "markdown",
      "metadata": {
        "id": "3648d9fb"
      },
      "source": [
        "## Задание 1. Превращаем видео в обучающий дата-сет\n",
        "\n",
        "Основные шаги алгоритма для определения того, находится ли человек в\n",
        "опасной зоне или нет, и если да, то надел ли он СИЗ\n",
        "1. Формирование собственного обучающего дата-сета.\n",
        "\n",
        "В случаях, когда требуется создавать свое обучающее множество,\n",
        "возможен следующий порядок действий:\n",
        "* Собрать видеофрагменты с требуемыми объектами (работники в\n",
        "средствах индивидуальной защиты и без них).\n",
        "* Нарезать видеофрагменты.\n",
        "* Отфильтровать видеофрагменты, чтобы получить сбалансированный\n",
        "по различным объектам распознавания дата-сет.\n",
        "* Распределить кадры между разметчиками для выделения\n",
        "необходимых объектов, в нашем случае, следующих СИЗ: каски,\n",
        "перчатки, защитные очки, наушники и пр.\n",
        "* Проверить результаты работы разметчиков.\n",
        "* При необходимости осуществить аугментацию, сформировать\n",
        "расширенный размеченный дата-сет за счет поворота или\n",
        "отражения кадров, а также настройки резкости и контраста\n",
        "изображений.\n",
        "2. Обучение модели – вначале для детектирования лиц и силуэтов людей,\n",
        "когда определяем, есть ли кто-то в кадре или нет.\n",
        "Здесь возможен дополнительный шаг, когда делим пространство в кадре\n",
        "на зоны детектирования и определяем, есть ли в опасных зонах люди,\n",
        "и если да, то носят они СИЗ или нет.\n",
        "3. Оценка точности модели для обучающей и тестовой выборок,\n",
        "составленных на основе полученного дата-сета.\n",
        "4. Отчетность и сбор статистических данных о том, как работает\n",
        "программа."
      ],
      "id": "3648d9fb"
    },
    {
      "cell_type": "markdown",
      "metadata": {
        "id": "43ae2bb6"
      },
      "source": [
        "## Задание 2. Обучаем модель распознавания рукописных цифр"
      ],
      "id": "43ae2bb6"
    },
    {
      "cell_type": "code",
      "metadata": {
        "id": "a6c79555"
      },
      "source": [
        "import keras\n",
        "from keras.datasets import mnist\n",
        "from keras.utils import np_utils\n",
        "from keras.models import Sequential\n",
        "from keras.layers import Dense, Dropout, Flatten\n",
        "from keras.layers import Conv2D, MaxPooling2D"
      ],
      "id": "a6c79555",
      "execution_count": 1,
      "outputs": []
    },
    {
      "cell_type": "code",
      "metadata": {
        "colab": {
          "base_uri": "https://localhost:8080/"
        },
        "id": "cf3121b2",
        "outputId": "f9c173f3-65b7-44cb-e2ed-eec90eb1bf39"
      },
      "source": [
        "# импортируем данные и создаем обучающую и тестовую выборки\n",
        "(x_train, y_train), (x_test, y_test) = mnist.load_data()\n",
        "print(x_train.shape, y_train.shape)"
      ],
      "id": "cf3121b2",
      "execution_count": 2,
      "outputs": [
        {
          "output_type": "stream",
          "text": [
            "(60000, 28, 28) (60000,)\n"
          ],
          "name": "stdout"
        }
      ]
    },
    {
      "cell_type": "code",
      "metadata": {
        "colab": {
          "base_uri": "https://localhost:8080/",
          "height": 251
        },
        "id": "Me81ztsWSk7Z",
        "outputId": "02dee1d4-7d64-45b2-e254-3ff370a64c39"
      },
      "source": [
        "# добавь отображение графика\n",
        "import matplotlib.pyplot as plt\n",
        "%matplotlib inline\n",
        "\n",
        "images = x_train[:10]\n",
        "labels = y_train[:10]\n",
        "num_row = 2\n",
        "num_col = 5\n",
        "\n",
        "fig, axes = plt.subplots(num_row, num_col) #, figsize=(1.5*num_col,2*num_row))\n",
        "for i in range(10):\n",
        "    ax = axes[i//num_col, i%num_col]\n",
        "    ax.imshow(images[i], cmap='gray')\n",
        "    ax.set_title('Label: {}'.format(labels[i]))\n",
        "plt.tight_layout()\n",
        "plt.show()"
      ],
      "id": "Me81ztsWSk7Z",
      "execution_count": 3,
      "outputs": [
        {
          "output_type": "display_data",
          "data": {
            "image/png": "[encoded data removed]",
            "text/plain": [
              "<Figure size 432x288 with 10 Axes>"
            ]
          },
          "metadata": {
            "tags": [],
            "needs_background": "light"
          }
        }
      ]
    },
    {
      "cell_type": "code",
      "metadata": {
        "colab": {
          "base_uri": "https://localhost:8080/"
        },
        "id": "hQDf_1wVIcst",
        "outputId": "04b9300c-709c-4a8a-96aa-9714a9964cdd"
      },
      "source": [
        "num_classes = 10 # цифры 0-9\n",
        "x_train = x_train.reshape(x_train.shape[0], 28, 28, 1) # размер изображения 28x28\n",
        "x_test = x_test.reshape(x_test.shape[0], 28, 28, 1)\n",
        "\n",
        "# переводим изображения в диапазон [0,1]\n",
        "x_train = x_train.astype('float32') / 255\n",
        "x_test = x_test.astype('float32') / 255\n",
        "# преобразование векторных классов в бинарные матрицы \n",
        "y_train = np_utils.to_categorical(y_train, num_classes) # альтернативно keras.utils для других версий Keras\n",
        "y_test = np_utils.to_categorical(y_test, num_classes)\n",
        "print('Размер обучающей выборки:', x_train.shape[0])\n",
        "print('Размер тестовой выборки:', x_test.shape[0])"
      ],
      "id": "hQDf_1wVIcst",
      "execution_count": 4,
      "outputs": [
        {
          "output_type": "stream",
          "text": [
            "Размер обучающей выборки: 60000\n",
            "Размер тестовой выборки: 10000\n"
          ],
          "name": "stdout"
        }
      ]
    },
    {
      "cell_type": "code",
      "metadata": {
        "colab": {
          "base_uri": "https://localhost:8080/"
        },
        "id": "WESqcJ3_Jk8R",
        "outputId": "8cb1b9c3-44ec-4f96-bcea-d9ac17cb43d3"
      },
      "source": [
        "model = Sequential(\n",
        "    [\n",
        "    # для других версий Keras может быть в виде 32, (3,3)\n",
        "    Conv2D(32, 3, 3, activation='relu', input_shape=(28, 28, 1)),\n",
        "    # добавь Flatten и два слоя Dense - в первом активационная функция должна быть relu, во втором - softmax\n",
        "    Flatten(),\n",
        "    Dense(256, activation=\"relu\"),\n",
        "    Dense(num_classes, activation=\"softmax\")\n",
        "    ] \n",
        ")\n",
        "\n",
        "model.compile(loss='categorical_crossentropy', optimizer=keras.optimizers.Adadelta(), metrics=['accuracy'])\n",
        "# возможно keras.losses.categorical_crossentropy для других версий Keras\n",
        "print(model.summary())"
      ],
      "id": "WESqcJ3_Jk8R",
      "execution_count": 5,
      "outputs": [
        {
          "output_type": "stream",
          "text": [
            "Model: \"sequential\"\n",
            "_________________________________________________________________\n",
            "Layer (type)                 Output Shape              Param #   \n",
            "=================================================================\n",
            "conv2d (Conv2D)              (None, 9, 9, 32)          320       \n",
            "_________________________________________________________________\n",
            "flatten (Flatten)            (None, 2592)              0         \n",
            "_________________________________________________________________\n",
            "dense (Dense)                (None, 256)               663808    \n",
            "_________________________________________________________________\n",
            "dense_1 (Dense)              (None, 10)                2570      \n",
            "=================================================================\n",
            "Total params: 666,698\n",
            "Trainable params: 666,698\n",
            "Non-trainable params: 0\n",
            "_________________________________________________________________\n",
            "None\n"
          ],
          "name": "stdout"
        }
      ]
    },
    {
      "cell_type": "code",
      "metadata": {
        "colab": {
          "base_uri": "https://localhost:8080/"
        },
        "id": "9sHF5cnZLdVu",
        "outputId": "93a9614b-6c2f-4627-870f-2c925975107b"
      },
      "source": [
        "# добавь fit\n",
        "# Александр рекомендовал использовать batch_size = 200 и число эпох 25\n",
        "# раздели train set на непосредственно обучающую и валидационную (20% от размера test set)\n",
        "\n",
        "batch_size = 200\n",
        "epochs = 25\n",
        "\n",
        "model.fit(\n",
        "    x_train, \n",
        "    y_train, \n",
        "    batch_size=batch_size, \n",
        "    epochs=epochs, \n",
        "    validation_split=0.2, \n",
        "    verbose=2\n",
        ")"
      ],
      "id": "9sHF5cnZLdVu",
      "execution_count": 6,
      "outputs": [
        {
          "output_type": "stream",
          "text": [
            "Epoch 1/25\n",
            "240/240 - 19s - loss: 2.2952 - accuracy: 0.0884 - val_loss: 2.2899 - val_accuracy: 0.1072\n",
            "Epoch 2/25\n",
            "240/240 - 5s - loss: 2.2832 - accuracy: 0.1279 - val_loss: 2.2772 - val_accuracy: 0.1519\n",
            "Epoch 3/25\n",
            "240/240 - 5s - loss: 2.2705 - accuracy: 0.1787 - val_loss: 2.2639 - val_accuracy: 0.2065\n",
            "Epoch 4/25\n",
            "240/240 - 5s - loss: 2.2572 - accuracy: 0.2309 - val_loss: 2.2498 - val_accuracy: 0.2576\n",
            "Epoch 5/25\n",
            "240/240 - 5s - loss: 2.2430 - accuracy: 0.2809 - val_loss: 2.2349 - val_accuracy: 0.3053\n",
            "Epoch 6/25\n",
            "240/240 - 5s - loss: 2.2278 - accuracy: 0.3269 - val_loss: 2.2188 - val_accuracy: 0.3554\n",
            "Epoch 7/25\n",
            "240/240 - 5s - loss: 2.2115 - accuracy: 0.3712 - val_loss: 2.2015 - val_accuracy: 0.4008\n",
            "Epoch 8/25\n",
            "240/240 - 5s - loss: 2.1939 - accuracy: 0.4113 - val_loss: 2.1827 - val_accuracy: 0.4443\n",
            "Epoch 9/25\n",
            "240/240 - 5s - loss: 2.1748 - accuracy: 0.4518 - val_loss: 2.1624 - val_accuracy: 0.4847\n",
            "Epoch 10/25\n",
            "240/240 - 5s - loss: 2.1541 - accuracy: 0.4884 - val_loss: 2.1402 - val_accuracy: 0.5212\n",
            "Epoch 11/25\n",
            "240/240 - 5s - loss: 2.1315 - accuracy: 0.5207 - val_loss: 2.1160 - val_accuracy: 0.5552\n",
            "Epoch 12/25\n",
            "240/240 - 5s - loss: 2.1068 - accuracy: 0.5531 - val_loss: 2.0897 - val_accuracy: 0.5856\n",
            "Epoch 13/25\n",
            "240/240 - 5s - loss: 2.0798 - accuracy: 0.5787 - val_loss: 2.0609 - val_accuracy: 0.6112\n",
            "Epoch 14/25\n",
            "240/240 - 5s - loss: 2.0505 - accuracy: 0.6020 - val_loss: 2.0296 - val_accuracy: 0.6308\n",
            "Epoch 15/25\n",
            "240/240 - 5s - loss: 2.0187 - accuracy: 0.6225 - val_loss: 1.9957 - val_accuracy: 0.6492\n",
            "Epoch 16/25\n",
            "240/240 - 5s - loss: 1.9843 - accuracy: 0.6378 - val_loss: 1.9591 - val_accuracy: 0.6653\n",
            "Epoch 17/25\n",
            "240/240 - 5s - loss: 1.9473 - accuracy: 0.6530 - val_loss: 1.9199 - val_accuracy: 0.6793\n",
            "Epoch 18/25\n",
            "240/240 - 5s - loss: 1.9076 - accuracy: 0.6656 - val_loss: 1.8780 - val_accuracy: 0.6918\n",
            "Epoch 19/25\n",
            "240/240 - 5s - loss: 1.8655 - accuracy: 0.6770 - val_loss: 1.8336 - val_accuracy: 0.7034\n",
            "Epoch 20/25\n",
            "240/240 - 5s - loss: 1.8210 - accuracy: 0.6873 - val_loss: 1.7868 - val_accuracy: 0.7128\n",
            "Epoch 21/25\n",
            "240/240 - 5s - loss: 1.7742 - accuracy: 0.6964 - val_loss: 1.7379 - val_accuracy: 0.7216\n",
            "Epoch 22/25\n",
            "240/240 - 5s - loss: 1.7255 - accuracy: 0.7045 - val_loss: 1.6871 - val_accuracy: 0.7296\n",
            "Epoch 23/25\n",
            "240/240 - 5s - loss: 1.6751 - accuracy: 0.7128 - val_loss: 1.6347 - val_accuracy: 0.7377\n",
            "Epoch 24/25\n",
            "240/240 - 5s - loss: 1.6235 - accuracy: 0.7205 - val_loss: 1.5814 - val_accuracy: 0.7441\n",
            "Epoch 25/25\n",
            "240/240 - 5s - loss: 1.5711 - accuracy: 0.7280 - val_loss: 1.5275 - val_accuracy: 0.7520\n"
          ],
          "name": "stdout"
        },
        {
          "output_type": "execute_result",
          "data": {
            "text/plain": [
              "<keras.callbacks.History at 0x7f9b5a4ce690>"
            ]
          },
          "metadata": {
            "tags": []
          },
          "execution_count": 6
        }
      ]
    },
    {
      "cell_type": "code",
      "metadata": {
        "colab": {
          "base_uri": "https://localhost:8080/"
        },
        "id": "HaCbApizMRpf",
        "outputId": "977b0eb4-77db-47c8-c811-e5ebd260a3cb"
      },
      "source": [
        "# добавь evaluate и напечатай точность работы на тестовых данных с точностью до 2 знаков после запятой\n",
        "\n",
        "scores = model.evaluate(x_test, y_test, verbose=0)\n",
        "print(\"Test loss: %.2f%%\" % (scores[0]))\n",
        "print(\"Точность работы на тестовых данных: %.2f%%\" % (scores[1]*100))"
      ],
      "id": "HaCbApizMRpf",
      "execution_count": 7,
      "outputs": [
        {
          "output_type": "stream",
          "text": [
            "Test loss: 1.52%\n",
            "Точность работы на тестовых данных: 74.79%\n"
          ],
          "name": "stdout"
        }
      ]
    }
  ]
}