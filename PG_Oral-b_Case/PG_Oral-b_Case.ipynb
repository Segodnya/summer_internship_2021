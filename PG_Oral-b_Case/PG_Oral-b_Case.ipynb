{
 "cells": [
  {
   "cell_type": "markdown",
   "id": "c6d50e57",
   "metadata": {},
   "source": [
    "# Oral-B Case"
   ]
  },
  {
   "cell_type": "code",
   "execution_count": 1,
   "id": "c0e540bf",
   "metadata": {},
   "outputs": [],
   "source": [
    "import pandas as pd\n",
    "import matplotlib.pyplot as plt\n",
    "from efficient_apriori import apriori # pip install efficient-apriori\n",
    "\n",
    "df = pd.read_csv('Case Data.csv', sep=\",\")"
   ]
  },
  {
   "cell_type": "markdown",
   "id": "cda72c80",
   "metadata": {},
   "source": [
    "## Задание 1 -  Проверка данных на полноту"
   ]
  },
  {
   "cell_type": "code",
   "execution_count": 2,
   "id": "8a93b0d3",
   "metadata": {},
   "outputs": [
    {
     "data": {
      "text/html": [
       "<div>\n",
       "<style scoped>\n",
       "    .dataframe tbody tr th:only-of-type {\n",
       "        vertical-align: middle;\n",
       "    }\n",
       "\n",
       "    .dataframe tbody tr th {\n",
       "        vertical-align: top;\n",
       "    }\n",
       "\n",
       "    .dataframe thead th {\n",
       "        text-align: right;\n",
       "    }\n",
       "</style>\n",
       "<table border=\"1\" class=\"dataframe\">\n",
       "  <thead>\n",
       "    <tr style=\"text-align: right;\">\n",
       "      <th></th>\n",
       "      <th>﻿id чека</th>\n",
       "      <th>Дата и время</th>\n",
       "      <th>ИНН</th>\n",
       "      <th>IDПользователя</th>\n",
       "      <th>Товар</th>\n",
       "      <th>Бренд</th>\n",
       "      <th>Теги</th>\n",
       "      <th>Цена</th>\n",
       "      <th>Кол-во</th>\n",
       "      <th>Сумма</th>\n",
       "      <th>Кэшбэк</th>\n",
       "    </tr>\n",
       "  </thead>\n",
       "  <tbody>\n",
       "    <tr>\n",
       "      <th>0</th>\n",
       "      <td>0000a622f9c8f1821ca549fbcfd47405</td>\n",
       "      <td>21.12.2019 15:15</td>\n",
       "      <td>2310031475</td>\n",
       "      <td>2700449a73d4cb9d8e909c706bf16fbe</td>\n",
       "      <td>libresse natural care ultra прокладки normal 10ш</td>\n",
       "      <td>libresse</td>\n",
       "      <td>личная гигиена; красота и здоровье; прокладки</td>\n",
       "      <td>63.2</td>\n",
       "      <td>2.0</td>\n",
       "      <td>126.4</td>\n",
       "      <td>NaN</td>\n",
       "    </tr>\n",
       "    <tr>\n",
       "      <th>1</th>\n",
       "      <td>0000a622f9c8f1821ca549fbcfd47405</td>\n",
       "      <td>21.12.2019 15:15</td>\n",
       "      <td>2310031475</td>\n",
       "      <td>2700449a73d4cb9d8e909c706bf16fbe</td>\n",
       "      <td>pampers трусики-подг 5 junior 12-17/15-18кг 96шт</td>\n",
       "      <td>pampers</td>\n",
       "      <td>NaN</td>\n",
       "      <td>1549.0</td>\n",
       "      <td>1.0</td>\n",
       "      <td>1549.0</td>\n",
       "      <td>154.9</td>\n",
       "    </tr>\n",
       "    <tr>\n",
       "      <th>2</th>\n",
       "      <td>0000a622f9c8f1821ca549fbcfd47405</td>\n",
       "      <td>21.12.2019 15:15</td>\n",
       "      <td>2310031475</td>\n",
       "      <td>2700449a73d4cb9d8e909c706bf16fbe</td>\n",
       "      <td>salton губка/гл кож с дозатор(чер)(шанхай продак</td>\n",
       "      <td>NaN</td>\n",
       "      <td>NaN</td>\n",
       "      <td>135.2</td>\n",
       "      <td>1.0</td>\n",
       "      <td>135.2</td>\n",
       "      <td>NaN</td>\n",
       "    </tr>\n",
       "    <tr>\n",
       "      <th>3</th>\n",
       "      <td>0000a622f9c8f1821ca549fbcfd47405</td>\n",
       "      <td>21.12.2019 15:15</td>\n",
       "      <td>2310031475</td>\n",
       "      <td>2700449a73d4cb9d8e909c706bf16fbe</td>\n",
       "      <td>soft ватные палочки 200шт пластиковый стакан(кот</td>\n",
       "      <td>NaN</td>\n",
       "      <td>NaN</td>\n",
       "      <td>31.2</td>\n",
       "      <td>1.0</td>\n",
       "      <td>31.2</td>\n",
       "      <td>NaN</td>\n",
       "    </tr>\n",
       "    <tr>\n",
       "      <th>4</th>\n",
       "      <td>0000a622f9c8f1821ca549fbcfd47405</td>\n",
       "      <td>21.12.2019 15:15</td>\n",
       "      <td>2310031475</td>\n",
       "      <td>2700449a73d4cb9d8e909c706bf16fbe</td>\n",
       "      <td>моя цена/степной тюльпан туал/бум без вт(бумагар</td>\n",
       "      <td>NaN</td>\n",
       "      <td>NaN</td>\n",
       "      <td>4.9</td>\n",
       "      <td>1.0</td>\n",
       "      <td>4.9</td>\n",
       "      <td>NaN</td>\n",
       "    </tr>\n",
       "  </tbody>\n",
       "</table>\n",
       "</div>"
      ],
      "text/plain": [
       "                           ﻿id чека      Дата и время         ИНН  \\\n",
       "0  0000a622f9c8f1821ca549fbcfd47405  21.12.2019 15:15  2310031475   \n",
       "1  0000a622f9c8f1821ca549fbcfd47405  21.12.2019 15:15  2310031475   \n",
       "2  0000a622f9c8f1821ca549fbcfd47405  21.12.2019 15:15  2310031475   \n",
       "3  0000a622f9c8f1821ca549fbcfd47405  21.12.2019 15:15  2310031475   \n",
       "4  0000a622f9c8f1821ca549fbcfd47405  21.12.2019 15:15  2310031475   \n",
       "\n",
       "                     IDПользователя  \\\n",
       "0  2700449a73d4cb9d8e909c706bf16fbe   \n",
       "1  2700449a73d4cb9d8e909c706bf16fbe   \n",
       "2  2700449a73d4cb9d8e909c706bf16fbe   \n",
       "3  2700449a73d4cb9d8e909c706bf16fbe   \n",
       "4  2700449a73d4cb9d8e909c706bf16fbe   \n",
       "\n",
       "                                              Товар     Бренд  \\\n",
       "0  libresse natural care ultra прокладки normal 10ш  libresse   \n",
       "1  pampers трусики-подг 5 junior 12-17/15-18кг 96шт   pampers   \n",
       "2  salton губка/гл кож с дозатор(чер)(шанхай продак       NaN   \n",
       "3  soft ватные палочки 200шт пластиковый стакан(кот       NaN   \n",
       "4  моя цена/степной тюльпан туал/бум без вт(бумагар       NaN   \n",
       "\n",
       "                                            Теги    Цена  Кол-во   Сумма  \\\n",
       "0  личная гигиена; красота и здоровье; прокладки    63.2     2.0   126.4   \n",
       "1                                            NaN  1549.0     1.0  1549.0   \n",
       "2                                            NaN   135.2     1.0   135.2   \n",
       "3                                            NaN    31.2     1.0    31.2   \n",
       "4                                            NaN     4.9     1.0     4.9   \n",
       "\n",
       "   Кэшбэк  \n",
       "0     NaN  \n",
       "1   154.9  \n",
       "2     NaN  \n",
       "3     NaN  \n",
       "4     NaN  "
      ]
     },
     "execution_count": 2,
     "metadata": {},
     "output_type": "execute_result"
    }
   ],
   "source": [
    "df.head()"
   ]
  },
  {
   "cell_type": "code",
   "execution_count": 3,
   "id": "8cea03cf",
   "metadata": {},
   "outputs": [
    {
     "name": "stdout",
     "output_type": "stream",
     "text": [
      "                     0  percentage\n",
      "﻿id чека             0         0.0\n",
      "Дата и время         0         0.0\n",
      "ИНН                  0         0.0\n",
      "IDПользователя       0         0.0\n",
      "Товар                0         0.0\n",
      "Бренд           178495        57.6\n",
      "Теги            128391        41.5\n",
      "Цена                52         0.0\n",
      "Кол-во              52         0.0\n",
      "Сумма               52         0.0\n",
      "Кэшбэк          253552        81.9\n",
      "Количество строк, содержащих NaN: 259220\n",
      "Доля строк, содержащих NaN-значения, %: 83.698\n"
     ]
    }
   ],
   "source": [
    "# count NaNs\n",
    "nans = pd.DataFrame(df.isna().sum())\n",
    "# count percentage of nans in columns\n",
    "nans['percentage'] = round(nans[0] / len(df) * 100, 1)\n",
    "\n",
    "print(nans)\n",
    "\n",
    "print('Количество строк, содержащих NaN:', df.isna().any(axis=1).sum()) # подсчет общего количества строк, содержащих NaN\n",
    "\n",
    "r, c = df.shape\n",
    "share = ((df.isna().any(axis=1).sum())/r)*100\n",
    "print('Доля строк, содержащих NaN-значения, %:', \"%0.3f\" % share)"
   ]
  },
  {
   "cell_type": "markdown",
   "id": "f77c2c9d",
   "metadata": {},
   "source": [
    "Пропущенные занчения есть в 6 столбцах из 11. Наибольшее количество пропусков - в столбце Кэшбэк (253552, 81.9%). Также много пропусков в столбцах Бренд (178495, 57.6%) и Тэги (128391, 41.5%)."
   ]
  },
  {
   "cell_type": "markdown",
   "id": "ec8ed44a",
   "metadata": {},
   "source": [
    "## Задание 2 - Поиск ассоциативных правил"
   ]
  },
  {
   "cell_type": "code",
   "execution_count": 4,
   "id": "cb981a93",
   "metadata": {
    "scrolled": false
   },
   "outputs": [
    {
     "name": "stdout",
     "output_type": "stream",
     "text": [
      "[{личная гигиена; красота и здоровье; прокладки} -> {упаковка; пакеты; прочее}, {прокладки; личная гигиена; красота и здоровье} -> {упаковка; пакеты; прочее}, {красота и здоровье; гигиена волос; шампунь для волос} -> {упаковка; пакеты; прочее}, {красота и здоровье; дезодорант/антиперсперант; личная гигиена} -> {упаковка; пакеты; прочее}, {продукты; банан; фрукты; овощи/фрукты/ягоды} -> {упаковка; пакеты; прочее}, {бакалея; сахар; продукты} -> {упаковка; пакеты; прочее}, {красота и здоровье; прокладки; личная гигиена} -> {упаковка; пакеты; прочее}, {красота и здоровье; личная гигиена; прокладки} -> {упаковка; пакеты; прочее}, {уход за полостью рта; красота и здоровье; зубная паста} -> {упаковка; пакеты; прочее}, {дезодорант/антиперсперант; личная гигиена; красота и здоровье} -> {упаковка; пакеты; прочее}, {красота и здоровье; шампунь для волос; гигиена волос} -> {упаковка; пакеты; прочее}, {хлеб и сладости; хлеб; продукты} -> {упаковка; пакеты; прочее}, {уход за полостью рта; зубная паста; красота и здоровье} -> {упаковка; пакеты; прочее}, {личная гигиена; дезодорант/антиперсперант; красота и здоровье} -> {упаковка; пакеты; прочее}, {личная гигиена; прокладки; красота и здоровье} -> {упаковка; пакеты; прочее}, {прочее; упаковка; пакеты} -> {упаковка; пакеты; прочее}, {шампунь для волос; гигиена волос; красота и здоровье} -> {упаковка; пакеты; прочее}, {пакеты; прочее; упаковка} -> {упаковка; пакеты; прочее}, {зубная паста; уход за полостью рта; красота и здоровье} -> {упаковка; пакеты; прочее}, {личная гигиена; красота и здоровье; дезодорант/антиперсперант} -> {упаковка; пакеты; прочее}, {прокладки; красота и здоровье; личная гигиена} -> {упаковка; пакеты; прочее}, {бакалея; продукты; макароны} -> {упаковка; пакеты; прочее}, {бумага/салфетки; салфетки; хозяйственные товары} -> {упаковка; пакеты; прочее}, {красота и здоровье; личная гигиена; дезодорант/антиперсперант} -> {упаковка; пакеты; прочее}, {продукты; макароны; бакалея} -> {упаковка; пакеты; прочее}, {хозяйственные товары; салфетки; бумага/салфетки} -> {упаковка; пакеты; прочее}, {детское питание; пюре детское} -> {упаковка; пакеты; прочее}, {пюре детское; детское питание} -> {упаковка; пакеты; прочее}, {шампунь для волос; красота и здоровье; гигиена волос} -> {упаковка; пакеты; прочее}, {кондиционер для белья; хозяйственные товары; уход за бельем} -> {упаковка; пакеты; прочее}, {туалетная бумага; бумага/салфетки; хозяйственные товары} -> {упаковка; пакеты; прочее}, {прочее; лояльность} -> {упаковка; пакеты; прочее}, {огурцы; овощи/фрукты/ягоды; продукты; овощи} -> {упаковка; пакеты; прочее}, {пакеты; упаковка; прочее} -> {упаковка; пакеты; прочее}, {гигиена волос; красота и здоровье; шампунь для волос} -> {упаковка; пакеты; прочее}, {продукты; мандарины; фрукты; овощи/фрукты/ягоды} -> {упаковка; пакеты; прочее}, {красота и здоровье; зубная паста; уход за полостью рта} -> {упаковка; пакеты; прочее}, {упаковка; прочее; пакеты} -> {упаковка; пакеты; прочее}, {красота и здоровье; уход за полостью рта; зубная паста} -> {упаковка; пакеты; прочее}, {кондиционер для белья; уход за бельем; хозяйственные товары} -> {упаковка; пакеты; прочее}, {уход за бельем; кондиционер для белья; хозяйственные товары} -> {упаковка; пакеты; прочее}, {салфетки; бумага/салфетки; хозяйственные товары} -> {упаковка; пакеты; прочее}, {дезодорант/антиперсперант; красота и здоровье; личная гигиена} -> {упаковка; пакеты; прочее}, {зубная паста; красота и здоровье; уход за полостью рта} -> {упаковка; пакеты; прочее}, {фрукты; овощи/фрукты/ягоды; продукты; банан} -> {упаковка; пакеты; прочее}, {гигиена волос; шампунь для волос; красота и здоровье} -> {упаковка; пакеты; прочее}, {макароны; продукты; бакалея} -> {упаковка; пакеты; прочее}, {продукты; хлеб и сладости; хлеб} -> {упаковка; пакеты; прочее}]\n",
      "--------------------\n",
      "{1: {('личная гигиена; красота и здоровье; прокладки',): 2410, ('упаковка; пакеты; прочее',): 30585, ('прокладки; личная гигиена; красота и здоровье',): 2484, ('уход за полостью рта; зубная паста; красота и здоровье',): 760, ('красота и здоровье; гигиена волос; шампунь для волос',): 1043, ('красота и здоровье; дезодорант/антиперсперант; личная гигиена',): 521, ('продукты; банан; фрукты; овощи/фрукты/ягоды',): 699, ('дезодорант/антиперсперант; личная гигиена; красота и здоровье',): 504, ('; ',): 550, ('красота и здоровье; личная гигиена; дезодорант/антиперсперант',): 707, ('бакалея; сахар; продукты',): 400, ('красота и здоровье; прокладки; личная гигиена',): 1281, ('красота и здоровье; зубная паста; уход за полостью рта',): 639, ('кондиционер для белья; хозяйственные товары; уход за бельем',): 1109, ('красота и здоровье; личная гигиена; прокладки',): 1261, ('уход за полостью рта; красота и здоровье; зубная паста',): 613, ('хлеб и сладости; хлеб; продукты',): 344, ('красота и здоровье; шампунь для волос; гигиена волос',): 1328, ('личная гигиена; дезодорант/антиперсперант; красота и здоровье',): 431, ('личная гигиена; прокладки; красота и здоровье',): 1977, ('гель для душа; личная гигиена; красота и здоровье',): 354, ('шампунь для волос; гигиена волос; красота и здоровье',): 987, ('прочее; упаковка; пакеты',): 1510, ('пакеты; прочее; упаковка',): 1668, ('уход за бельем; кондиционер для белья; хозяйственные товары',): 546, ('прокладки; красота и здоровье; личная гигиена',): 1960, ('зубная паста; уход за полостью рта; красота и здоровье',): 533, ('личная гигиена; красота и здоровье; дезодорант/антиперсперант',): 554, ('бумага/салфетки; салфетки; хозяйственные товары',): 454, ('хозяйственные товары; салфетки; бумага/салфетки',): 348, ('продукты; макароны; бакалея',): 337, ('бакалея; продукты; макароны',): 361, ('пюре детское; детское питание',): 477, ('детское питание; пюре детское',): 486, ('шампунь для волос; красота и здоровье; гигиена волос',): 1016, ('туалетная бумага; бумага/салфетки; хозяйственные товары',): 416, ('зубная паста; красота и здоровье; уход за полостью рта',): 630, ('прочее; лояльность',): 1437, ('огурцы; овощи/фрукты/ягоды; продукты; овощи',): 414, ('пакеты; упаковка; прочее',): 1455, ('неззащ',): 612, ('гигиена волос; красота и здоровье; шампунь для волос',): 833, ('продукты; мандарины; фрукты; овощи/фрукты/ягоды',): 516, ('упаковка; прочее; пакеты',): 408, ('кондитерка',): 325, ('хозяйственные товары; кондиционер для белья; уход за бельем',): 325, ('красота и здоровье; уход за полостью рта; зубная паста',): 614, ('кондиционер для белья; уход за бельем; хозяйственные товары',): 528, ('салфетки; бумага/салфетки; хозяйственные товары',): 488, ('личная гигиена; ежедневные; красота и здоровье; прокладки',): 342, ('дезодорант/антиперсперант; красота и здоровье; личная гигиена',): 531, ('фрукты; овощи/фрукты/ягоды; продукты; банан',): 360, ('красота и здоровье; бальзам для волос; гигиена волос',): 332, ('гигиена волос; шампунь для волос; красота и здоровье',): 910, ('хозяйственные товары; уход за бельем; кондиционер для белья',): 380, ('макароны; продукты; бакалея',): 349, ('табачные изделия; сигареты',): 319, ('продукты; хлеб и сладости; хлеб',): 338}, 2: {('личная гигиена; красота и здоровье; прокладки', 'упаковка; пакеты; прочее'): 1832, ('прокладки; личная гигиена; красота и здоровье', 'упаковка; пакеты; прочее'): 1873, ('красота и здоровье; гигиена волос; шампунь для волос', 'упаковка; пакеты; прочее'): 822, ('красота и здоровье; дезодорант/антиперсперант; личная гигиена', 'упаковка; пакеты; прочее'): 402, ('продукты; банан; фрукты; овощи/фрукты/ягоды', 'упаковка; пакеты; прочее'): 674, ('бакалея; сахар; продукты', 'упаковка; пакеты; прочее'): 390, ('красота и здоровье; прокладки; личная гигиена', 'упаковка; пакеты; прочее'): 1019, ('красота и здоровье; личная гигиена; прокладки', 'упаковка; пакеты; прочее'): 994, ('упаковка; пакеты; прочее', 'уход за полостью рта; красота и здоровье; зубная паста'): 496, ('дезодорант/антиперсперант; личная гигиена; красота и здоровье', 'упаковка; пакеты; прочее'): 390, ('красота и здоровье; шампунь для волос; гигиена волос', 'упаковка; пакеты; прочее'): 999, ('упаковка; пакеты; прочее', 'хлеб и сладости; хлеб; продукты'): 325, ('упаковка; пакеты; прочее', 'уход за полостью рта; зубная паста; красота и здоровье'): 602, ('личная гигиена; дезодорант/антиперсперант; красота и здоровье', 'упаковка; пакеты; прочее'): 349, ('личная гигиена; прокладки; красота и здоровье', 'упаковка; пакеты; прочее'): 1466, ('прочее; упаковка; пакеты', 'упаковка; пакеты; прочее'): 1323, ('упаковка; пакеты; прочее', 'шампунь для волос; гигиена волос; красота и здоровье'): 763, ('пакеты; прочее; упаковка', 'упаковка; пакеты; прочее'): 1479, ('зубная паста; уход за полостью рта; красота и здоровье', 'упаковка; пакеты; прочее'): 464, ('личная гигиена; красота и здоровье; дезодорант/антиперсперант', 'упаковка; пакеты; прочее'): 424, ('прокладки; красота и здоровье; личная гигиена', 'упаковка; пакеты; прочее'): 1514, ('бакалея; продукты; макароны', 'упаковка; пакеты; прочее'): 357, ('бумага/салфетки; салфетки; хозяйственные товары', 'упаковка; пакеты; прочее'): 414, ('красота и здоровье; личная гигиена; дезодорант/антиперсперант', 'упаковка; пакеты; прочее'): 515, ('продукты; макароны; бакалея', 'упаковка; пакеты; прочее'): 331, ('упаковка; пакеты; прочее', 'хозяйственные товары; салфетки; бумага/салфетки'): 330, ('детское питание; пюре детское', 'упаковка; пакеты; прочее'): 459, ('пюре детское; детское питание', 'упаковка; пакеты; прочее'): 451, ('упаковка; пакеты; прочее', 'шампунь для волос; красота и здоровье; гигиена волос'): 821, ('кондиционер для белья; хозяйственные товары; уход за бельем', 'упаковка; пакеты; прочее'): 832, ('туалетная бумага; бумага/салфетки; хозяйственные товары', 'упаковка; пакеты; прочее'): 364, ('прочее; лояльность', 'упаковка; пакеты; прочее'): 1178, ('огурцы; овощи/фрукты/ягоды; продукты; овощи', 'упаковка; пакеты; прочее'): 406, ('пакеты; упаковка; прочее', 'упаковка; пакеты; прочее'): 1342, ('гигиена волос; красота и здоровье; шампунь для волос', 'упаковка; пакеты; прочее'): 641, ('продукты; мандарины; фрукты; овощи/фрукты/ягоды', 'упаковка; пакеты; прочее'): 497, ('красота и здоровье; зубная паста; уход за полостью рта', 'упаковка; пакеты; прочее'): 539, ('упаковка; пакеты; прочее', 'упаковка; прочее; пакеты'): 382, ('красота и здоровье; уход за полостью рта; зубная паста', 'упаковка; пакеты; прочее'): 512, ('кондиционер для белья; уход за бельем; хозяйственные товары', 'упаковка; пакеты; прочее'): 426, ('упаковка; пакеты; прочее', 'уход за бельем; кондиционер для белья; хозяйственные товары'): 391, ('салфетки; бумага/салфетки; хозяйственные товары', 'упаковка; пакеты; прочее'): 450, ('дезодорант/антиперсперант; красота и здоровье; личная гигиена', 'упаковка; пакеты; прочее'): 387, ('зубная паста; красота и здоровье; уход за полостью рта', 'упаковка; пакеты; прочее'): 518, ('упаковка; пакеты; прочее', 'фрукты; овощи/фрукты/ягоды; продукты; банан'): 345, ('гигиена волос; шампунь для волос; красота и здоровье', 'упаковка; пакеты; прочее'): 734, ('макароны; продукты; бакалея', 'упаковка; пакеты; прочее'): 340, ('продукты; хлеб и сладости; хлеб', 'упаковка; пакеты; прочее'): 319}}\n",
      "--------------------\n",
      "2\n",
      "--------------------\n",
      "{('личная гигиена; красота и здоровье; прокладки',): 2410, ('упаковка; пакеты; прочее',): 30585, ('прокладки; личная гигиена; красота и здоровье',): 2484, ('уход за полостью рта; зубная паста; красота и здоровье',): 760, ('красота и здоровье; гигиена волос; шампунь для волос',): 1043, ('красота и здоровье; дезодорант/антиперсперант; личная гигиена',): 521, ('продукты; банан; фрукты; овощи/фрукты/ягоды',): 699, ('дезодорант/антиперсперант; личная гигиена; красота и здоровье',): 504, ('; ',): 550, ('красота и здоровье; личная гигиена; дезодорант/антиперсперант',): 707, ('бакалея; сахар; продукты',): 400, ('красота и здоровье; прокладки; личная гигиена',): 1281, ('красота и здоровье; зубная паста; уход за полостью рта',): 639, ('кондиционер для белья; хозяйственные товары; уход за бельем',): 1109, ('красота и здоровье; личная гигиена; прокладки',): 1261, ('уход за полостью рта; красота и здоровье; зубная паста',): 613, ('хлеб и сладости; хлеб; продукты',): 344, ('красота и здоровье; шампунь для волос; гигиена волос',): 1328, ('личная гигиена; дезодорант/антиперсперант; красота и здоровье',): 431, ('личная гигиена; прокладки; красота и здоровье',): 1977, ('гель для душа; личная гигиена; красота и здоровье',): 354, ('шампунь для волос; гигиена волос; красота и здоровье',): 987, ('прочее; упаковка; пакеты',): 1510, ('пакеты; прочее; упаковка',): 1668, ('уход за бельем; кондиционер для белья; хозяйственные товары',): 546, ('прокладки; красота и здоровье; личная гигиена',): 1960, ('зубная паста; уход за полостью рта; красота и здоровье',): 533, ('личная гигиена; красота и здоровье; дезодорант/антиперсперант',): 554, ('бумага/салфетки; салфетки; хозяйственные товары',): 454, ('хозяйственные товары; салфетки; бумага/салфетки',): 348, ('продукты; макароны; бакалея',): 337, ('бакалея; продукты; макароны',): 361, ('пюре детское; детское питание',): 477, ('детское питание; пюре детское',): 486, ('шампунь для волос; красота и здоровье; гигиена волос',): 1016, ('туалетная бумага; бумага/салфетки; хозяйственные товары',): 416, ('зубная паста; красота и здоровье; уход за полостью рта',): 630, ('прочее; лояльность',): 1437, ('огурцы; овощи/фрукты/ягоды; продукты; овощи',): 414, ('пакеты; упаковка; прочее',): 1455, ('неззащ',): 612, ('гигиена волос; красота и здоровье; шампунь для волос',): 833, ('продукты; мандарины; фрукты; овощи/фрукты/ягоды',): 516, ('упаковка; прочее; пакеты',): 408, ('кондитерка',): 325, ('хозяйственные товары; кондиционер для белья; уход за бельем',): 325, ('красота и здоровье; уход за полостью рта; зубная паста',): 614, ('кондиционер для белья; уход за бельем; хозяйственные товары',): 528, ('салфетки; бумага/салфетки; хозяйственные товары',): 488, ('личная гигиена; ежедневные; красота и здоровье; прокладки',): 342, ('дезодорант/антиперсперант; красота и здоровье; личная гигиена',): 531, ('фрукты; овощи/фрукты/ягоды; продукты; банан',): 360, ('красота и здоровье; бальзам для волос; гигиена волос',): 332, ('гигиена волос; шампунь для волос; красота и здоровье',): 910, ('хозяйственные товары; уход за бельем; кондиционер для белья',): 380, ('макароны; продукты; бакалея',): 349, ('табачные изделия; сигареты',): 319, ('продукты; хлеб и сладости; хлеб',): 338}\n",
      "\n",
      "{прокладки; личная гигиена; красота и здоровье} -> {упаковка; пакеты; прочее} (conf: 0.754, supp: 0.041, lift: 1.122, conv: 1.332)\n",
      "\n"
     ]
    }
   ],
   "source": [
    "# Заполняем NaN-значения\n",
    "cols = ['Теги', 'Цена', 'Кол-во', 'Сумма', 'Кэшбэк'] # exclude brand-name\n",
    "df[cols] = df[cols].fillna(df.mode().iloc[0])\n",
    "# Группируем\n",
    "unique_checks = df.groupby('﻿id чека')[\"Теги\"].unique()\n",
    "group_goods = list(map(tuple, unique_checks))\n",
    "\n",
    "association_rules = apriori(group_goods, min_support=0.007, min_confidence=0.5) #0.0045(0.0035)\n",
    "\n",
    "association_results = list(association_rules)\n",
    "\n",
    "print(association_rules[1]) # печатаем сами правила\n",
    "print('-'*20)\n",
    "print(association_rules[0])\n",
    "print('-'*20)\n",
    "print(len(association_rules))\n",
    "print('-'*20)\n",
    "\n",
    "for item in association_rules:\n",
    "    pair = item[1]\n",
    "    print(pair)\n",
    "    print()"
   ]
  },
  {
   "cell_type": "markdown",
   "id": "fd47ddbe",
   "metadata": {},
   "source": [
    "Довольно часто повторяются различные комбинация {упаковка; пакеты; прочее}. Возможно, следует поработать над тем, чтобы исключить из анализа такие комбинации категорий."
   ]
  },
  {
   "cell_type": "markdown",
   "id": "a18e0cb3",
   "metadata": {},
   "source": [
    "## Задание 3 - Найти товары P&G в чеках покупателей"
   ]
  },
  {
   "cell_type": "code",
   "execution_count": 5,
   "id": "7d911cfc",
   "metadata": {},
   "outputs": [],
   "source": [
    "def count_brand(dataset, brand_name, parser):\n",
    "    found_rows = df['Бренд'].str.contains(parser).sum()\n",
    "    print(brand_name + \":\", \"%0.0f\" % df['Бренд'].str.contains(parser).sum())\n",
    "    return found_rows"
   ]
  },
  {
   "cell_type": "code",
   "execution_count": 6,
   "id": "48f8ccbb",
   "metadata": {},
   "outputs": [
    {
     "data": {
      "text/plain": [
       "<AxesSubplot:title={'center':'P&G Top-3 Brands'}, ylabel='Brand Name'>"
      ]
     },
     "execution_count": 6,
     "metadata": {},
     "output_type": "execute_result"
    },
    {
     "data": {
      "image/png": "[encoded data removed]",
      "text/plain": [
       "<Figure size 432x288 with 1 Axes>"
      ]
     },
     "metadata": {
      "needs_background": "light"
     },
     "output_type": "display_data"
    }
   ],
   "source": [
    "df['Бренд'] = df['Бренд'].str.lower()\n",
    "\n",
    "# pandas has easy-to-use method\n",
    "top_brands = df['Бренд'].value_counts()[0:3].sort_values()\n",
    "\n",
    "# plot top brands\n",
    "top_brands.plot(kind='barh',\n",
    "    title='P&G Top-3 Brands',\n",
    "    ylabel='sales count',\n",
    "    xlabel='Brand Name'\n",
    ")"
   ]
  },
  {
   "cell_type": "code",
   "execution_count": 7,
   "id": "c33ec7a7",
   "metadata": {},
   "outputs": [
    {
     "name": "stdout",
     "output_type": "stream",
     "text": [
      "Pampers: 3505\n",
      "Ariel: 2523\n",
      "Tide: 1960\n",
      "Миф: 265\n",
      "Lenor: 5207\n",
      "Always: 10737\n",
      "Tampax: 228\n",
      "Naturella: 2985\n",
      "Discreet: 6244\n",
      "Braun: 3\n",
      "Venus: 1122\n",
      "Head&Shoulders: 3658\n",
      "Pantene: 3848\n",
      "Herbal Essences: 147\n",
      "Aussie: 356\n",
      "Bear Fruits: 0\n",
      "Fairy: 4266\n",
      "Mr.Proper: 1936\n",
      "Oral-B: 1106\n",
      "Blend-a-Med: 1764\n",
      "Clearblue: 64\n",
      "Gillette: 5718\n",
      "Old Spice: 2315\n",
      "Safeguard: 1014\n"
     ]
    },
    {
     "data": {
      "image/png": "[encoded data removed]",
      "text/plain": [
       "<Figure size 432x288 with 1 Axes>"
      ]
     },
     "metadata": {
      "needs_background": "light"
     },
     "output_type": "display_data"
    }
   ],
   "source": [
    "# using count_brand function\n",
    "\n",
    "pampers = count_brand(df, \"Pampers\", \"pampers\")\n",
    "ariel = count_brand(df, \"Ariel\", \"ariel\")\n",
    "tide = count_brand(df, \"Tide\", \"tide\")\n",
    "миф = count_brand(df, \"Миф\", \"миф\")\n",
    "lenor = count_brand(df, \"Lenor\", \"lenor\")\n",
    "always = count_brand(df, \"Always\", \"always\")\n",
    "tampax = count_brand(df, \"Tampax\", \"tampax\")\n",
    "naturella = count_brand(df, \"Naturella\", \"naturella\")\n",
    "discreet = count_brand(df, \"Discreet\", \"discreet\")\n",
    "braun = count_brand(df, \"Braun\", \"braun\")\n",
    "venus = count_brand(df, \"Venus\", \"venus\")\n",
    "head_shoulders = count_brand(df, \"Head&Shoulders\", \"head & shoulders|head&shoulders\")\n",
    "pantene = count_brand(df, \"Pantene\", \"pantene\")\n",
    "herbal_essences = count_brand(df, \"Herbal Essences\", \"herbal essences|herbal\")\n",
    "aussie = count_brand(df, \"Aussie\", \"aussie\")\n",
    "bear_fruits = count_brand(df, \"Bear Fruits\", \"bear fruits\")\n",
    "fairy = count_brand(df, \"Fairy\", \"fairy\")\n",
    "mr_proper = count_brand(df, \"Mr.Proper\", \"mr. proper|mr.proper\")\n",
    "oral_b = count_brand(df, \"Oral-B\", \"oral b|oral-b\")\n",
    "blend_a_med = count_brand(df, \"Blend-a-Med\", \"blend-a-med\")\n",
    "clearblue = count_brand(df, \"Clearblue\", \"clearblue\")\n",
    "gillette = count_brand(df, \"Gillette\", \"gillette\")\n",
    "old_spice = count_brand(df, \"Old Spice\", \"old spice\")\n",
    "safeguard = count_brand(df, \"Safeguard\", \"safeguard\")\n",
    "\n",
    "# График\n",
    "columns = [pampers, ariel, tide, миф, lenor, always, tampax, naturella,\n",
    "           discreet, braun, gillette, venus, head_shoulders, pantene, herbal_essences, aussie,\n",
    "           bear_fruits, fairy, mr_proper, oral_b, blend_a_med, clearblue, old_spice, safeguard]\n",
    "labels = ('pampers', 'ariel', 'tide', 'миф', 'lenor', 'always', 'tampax', 'naturella',\n",
    "          'discreet', 'braun', 'gillette', 'venus', 'head&shoulders', 'pantene', 'herbal essences', 'aussie',\n",
    "          'bear fruits', 'fairy', 'mr. proper', 'oral-b', 'blend-a-med', 'clearblue', 'old spice', 'safeguard')\n",
    "plt.barh(labels, columns)\n",
    "plt.show()"
   ]
  },
  {
   "cell_type": "markdown",
   "id": "c12e7e08",
   "metadata": {},
   "source": [
    "Все 3 бренда (Always, Discreet, Gillette) - бренды P&G (https://www.procterandgamble.ru/brendy-i-produktsiya/).\n",
    "\n",
    "Именно эти три бренда наиболее часто встречаются в чеках покупателей."
   ]
  }
 ],
 "metadata": {
  "kernelspec": {
   "display_name": "Python 3",
   "language": "python",
   "name": "python3"
  },
  "language_info": {
   "codemirror_mode": {
    "name": "ipython",
    "version": 3
   },
   "file_extension": ".py",
   "mimetype": "text/x-python",
   "name": "python",
   "nbconvert_exporter": "python",
   "pygments_lexer": "ipython3",
   "version": "3.8.10"
  }
 },
 "nbformat": 4,
 "nbformat_minor": 5
}
